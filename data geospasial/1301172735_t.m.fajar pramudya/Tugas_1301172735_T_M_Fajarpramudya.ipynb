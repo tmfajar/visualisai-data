{
  "nbformat": 4,
  "nbformat_minor": 5,
  "metadata": {
    "kernelspec": {
      "display_name": "Python 3",
      "language": "python",
      "name": "python3"
    },
    "language_info": {
      "codemirror_mode": {
        "name": "ipython",
        "version": 3
      },
      "file_extension": ".py",
      "mimetype": "text/x-python",
      "name": "python",
      "nbconvert_exporter": "python",
      "pygments_lexer": "ipython3",
      "version": "3.9.1"
    },
    "colab": {
      "name": "Tugas_1301172735_T.M.Fajarpramudya.ipynb",
      "provenance": [],
      "collapsed_sections": []
    }
  },
  "cells": [
    {
      "cell_type": "code",
      "metadata": {
        "id": "84a3a7b9"
      },
      "source": [
        "import geoplot as gplt\n",
        "import geopandas as gpd\n",
        "import geoplot.crs as gcrs\n",
        "import imageio\n",
        "import pandas as pd\n",
        "import pathlib\n",
        "import matplotlib.animation as animation\n",
        "import matplotlib.pyplot as plt\n",
        "import mapclassify as mc\n",
        "import numpy as np\n",
        "\n",
        "%matplotlib inline\n",
        "\n",
        "pd.options.display.max_rows = 500\n",
        "pd.options.display.max_columns = 500"
      ],
      "id": "84a3a7b9",
      "execution_count": 81,
      "outputs": []
    },
    {
      "cell_type": "markdown",
      "metadata": {
        "id": "5a525204"
      },
      "source": [
        "### Import data "
      ],
      "id": "5a525204"
    },
    {
      "cell_type": "code",
      "metadata": {
        "id": "9cfc2de9"
      },
      "source": [
        "\n",
        "dfjumlahkasus= pd.read_csv(\"Statistik_Harian_per_Provinsi_COVID19_Indonesia_Rev.csv\")\n",
        "dfjumlahkasus.head()\n"
      ],
      "id": "9cfc2de9",
      "execution_count": null,
      "outputs": []
    },
    {
      "cell_type": "markdown",
      "metadata": {
        "id": "2f852d88"
      },
      "source": [
        "## Visualisasi data \n"
      ],
      "id": "2f852d88"
    },
    {
      "cell_type": "code",
      "metadata": {
        "id": "f6db506b"
      },
      "source": [
        "dfpo.plot()"
      ],
      "id": "f6db506b",
      "execution_count": null,
      "outputs": []
    },
    {
      "cell_type": "code",
      "metadata": {
        "id": "dba5736b"
      },
      "source": [
        "dfpo[dfpo.PROV==\"Banten\"].plot()"
      ],
      "id": "dba5736b",
      "execution_count": null,
      "outputs": []
    },
    {
      "cell_type": "code",
      "metadata": {
        "id": "53617126"
      },
      "source": [
        "provbanten = df[df.PROV=='Bali']\n",
        "provbanten.head()"
      ],
      "id": "53617126",
      "execution_count": null,
      "outputs": []
    },
    {
      "cell_type": "code",
      "metadata": {
        "scrolled": true,
        "id": "0f87c527"
      },
      "source": [
        "\n",
        "ax = gplt.polyplot(\n",
        "    dfpo, \n",
        "    edgecolor=\"blue\",\n",
        "    facecolor=\"lightgray\",\n",
        "    figsize=(14, 10),\n",
        "    projection=gcrs.AlbersEqualArea()\n",
        ")\n",
        "\n",
        "gplt.pointplot(\n",
        "    df,\n",
        "    ax=ax,\n",
        "    hue=\"positif\",\n",
        "    cmap=\"Blues\",\n",
        "    scheme=\"quantiles\",\n",
        "    scale=\"positif\",\n",
        "    limits = (3,12),\n",
        "    legend=True,\n",
        "    legend_var=\"scale\",\n",
        "    legend_kwargs={\"frameon\": False},\n",
        "    alpha =0.5,\n",
        "    figsize = (25.30)\n",
        ")\n",
        "\n",
        "ax.set_title(\"Covid di Indonesia\", fontsize=18)"
      ],
      "id": "0f87c527",
      "execution_count": null,
      "outputs": []
    }
  ]
}